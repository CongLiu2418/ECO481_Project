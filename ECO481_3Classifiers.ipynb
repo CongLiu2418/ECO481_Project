{
 "cells": [
  {
   "cell_type": "markdown",
   "id": "e9de00da",
   "metadata": {},
   "source": [
    "# Motivation\n",
    "- With the advancements made in ML algorithms, using machine learning to predict stock prices has become a hot topic and many works have been published. \n",
    "- Yet the covid-19 pandemic unpredictably hits the world. Under this unpredicted yet hugely impactful shock, we are interested in comparing different models and evaluating whether their prediction performance is still robust to the covid shock."
   ]
  },
  {
   "cell_type": "code",
   "execution_count": 1,
   "id": "58544f0a",
   "metadata": {},
   "outputs": [],
   "source": [
    "### IMPORT LIBRARIES ###\n",
    "import pandas as pd \n",
    "import numpy as np\n",
    "import os as os\n",
    "import matplotlib.pyplot as plt\n",
    "import seaborn as sns"
   ]
  },
  {
   "cell_type": "code",
   "execution_count": 2,
   "id": "3477ebcf",
   "metadata": {},
   "outputs": [
    {
     "name": "stdout",
     "output_type": "stream",
     "text": [
      "current working directory is set to /Users/crystal-liu/Desktop/ECO481_Project\n"
     ]
    }
   ],
   "source": [
    "### SET WORKING DIRECTORY ###\n",
    "Directories = {'data':'/Users/crystal-liu/Desktop/ECO481_Project'}\n",
    "\n",
    "os.chdir(Directories['data'])\n",
    "print(f'current working directory is set to {os.getcwd()}')"
   ]
  },
  {
   "cell_type": "markdown",
   "id": "2f2ab01f",
   "metadata": {},
   "source": [
    "# Data Cleaning "
   ]
  },
  {
   "cell_type": "code",
   "execution_count": 3,
   "id": "6c83a4e6",
   "metadata": {},
   "outputs": [
    {
     "data": {
      "text/html": [
       "<div>\n",
       "<style scoped>\n",
       "    .dataframe tbody tr th:only-of-type {\n",
       "        vertical-align: middle;\n",
       "    }\n",
       "\n",
       "    .dataframe tbody tr th {\n",
       "        vertical-align: top;\n",
       "    }\n",
       "\n",
       "    .dataframe thead th {\n",
       "        text-align: right;\n",
       "    }\n",
       "</style>\n",
       "<table border=\"1\" class=\"dataframe\">\n",
       "  <thead>\n",
       "    <tr style=\"text-align: right;\">\n",
       "      <th></th>\n",
       "      <th>Open</th>\n",
       "      <th>High</th>\n",
       "      <th>Low</th>\n",
       "      <th>Close</th>\n",
       "      <th>Adj Close</th>\n",
       "      <th>Volume</th>\n",
       "      <th>return %</th>\n",
       "      <th>positive</th>\n",
       "      <th>covid_search</th>\n",
       "      <th>firm</th>\n",
       "    </tr>\n",
       "    <tr>\n",
       "      <th>date</th>\n",
       "      <th></th>\n",
       "      <th></th>\n",
       "      <th></th>\n",
       "      <th></th>\n",
       "      <th></th>\n",
       "      <th></th>\n",
       "      <th></th>\n",
       "      <th></th>\n",
       "      <th></th>\n",
       "      <th></th>\n",
       "    </tr>\n",
       "  </thead>\n",
       "  <tbody>\n",
       "    <tr>\n",
       "      <th>2019-11-04</th>\n",
       "      <td>130.248566</td>\n",
       "      <td>131.682602</td>\n",
       "      <td>130.238998</td>\n",
       "      <td>131.615677</td>\n",
       "      <td>112.116310</td>\n",
       "      <td>3488828</td>\n",
       "      <td>1.578993</td>\n",
       "      <td>1</td>\n",
       "      <td>1.298571</td>\n",
       "      <td>IBM</td>\n",
       "    </tr>\n",
       "    <tr>\n",
       "      <th>2019-11-05</th>\n",
       "      <td>131.739960</td>\n",
       "      <td>132.657745</td>\n",
       "      <td>131.577438</td>\n",
       "      <td>131.826004</td>\n",
       "      <td>112.295479</td>\n",
       "      <td>3153690</td>\n",
       "      <td>0.159806</td>\n",
       "      <td>1</td>\n",
       "      <td>1.302857</td>\n",
       "      <td>IBM</td>\n",
       "    </tr>\n",
       "    <tr>\n",
       "      <th>2019-11-06</th>\n",
       "      <td>131.931168</td>\n",
       "      <td>132.676865</td>\n",
       "      <td>131.500961</td>\n",
       "      <td>132.676865</td>\n",
       "      <td>113.020271</td>\n",
       "      <td>4683256</td>\n",
       "      <td>0.645433</td>\n",
       "      <td>1</td>\n",
       "      <td>1.281429</td>\n",
       "      <td>IBM</td>\n",
       "    </tr>\n",
       "    <tr>\n",
       "      <th>2019-11-07</th>\n",
       "      <td>131.806885</td>\n",
       "      <td>133.021027</td>\n",
       "      <td>131.529633</td>\n",
       "      <td>131.634796</td>\n",
       "      <td>113.457008</td>\n",
       "      <td>4261195</td>\n",
       "      <td>0.386424</td>\n",
       "      <td>1</td>\n",
       "      <td>1.347143</td>\n",
       "      <td>IBM</td>\n",
       "    </tr>\n",
       "    <tr>\n",
       "      <th>2019-11-08</th>\n",
       "      <td>131.529633</td>\n",
       "      <td>131.558319</td>\n",
       "      <td>130.172089</td>\n",
       "      <td>131.558319</td>\n",
       "      <td>113.391083</td>\n",
       "      <td>2383206</td>\n",
       "      <td>-0.058106</td>\n",
       "      <td>0</td>\n",
       "      <td>1.338571</td>\n",
       "      <td>IBM</td>\n",
       "    </tr>\n",
       "  </tbody>\n",
       "</table>\n",
       "</div>"
      ],
      "text/plain": [
       "                  Open        High         Low       Close   Adj Close  \\\n",
       "date                                                                     \n",
       "2019-11-04  130.248566  131.682602  130.238998  131.615677  112.116310   \n",
       "2019-11-05  131.739960  132.657745  131.577438  131.826004  112.295479   \n",
       "2019-11-06  131.931168  132.676865  131.500961  132.676865  113.020271   \n",
       "2019-11-07  131.806885  133.021027  131.529633  131.634796  113.457008   \n",
       "2019-11-08  131.529633  131.558319  130.172089  131.558319  113.391083   \n",
       "\n",
       "             Volume  return %  positive  covid_search firm  \n",
       "date                                                        \n",
       "2019-11-04  3488828  1.578993         1      1.298571  IBM  \n",
       "2019-11-05  3153690  0.159806         1      1.302857  IBM  \n",
       "2019-11-06  4683256  0.645433         1      1.281429  IBM  \n",
       "2019-11-07  4261195  0.386424         1      1.347143  IBM  \n",
       "2019-11-08  2383206 -0.058106         0      1.338571  IBM  "
      ]
     },
     "execution_count": 3,
     "metadata": {},
     "output_type": "execute_result"
    }
   ],
   "source": [
    "IBM = pd.read_csv(\"Combine_inner_dataframe.csv\") # dataframe that combined IBM stock and covid search popularity\n",
    "# Drop the \"Unnamed\" column\n",
    "IBM = IBM.drop('Unnamed: 0', axis=1)\n",
    "\n",
    "### Convert 'date' column to pd.datetime object\n",
    "IBM['date'] = pd.to_datetime(IBM['date'], format='%Y-%m-%d')\n",
    "\n",
    "### Index by date\n",
    "IBM = IBM.set_index('date')\n",
    "\n",
    "### Calculate return in %\n",
    "IBM['return %'] = IBM['Adj Close'].pct_change()*100 # % is unit of return rate\n",
    "IBM = IBM.dropna(subset=['return %'])\n",
    "\n",
    "### Add outcome/response variable: whether gains a positive daily return\n",
    "IBM['positive'] = np.where(IBM['return %']>0, 1, 0) \n",
    "\n",
    "### Construct covid search index\n",
    "# To account for the co-linearity between search popularity of covid keywords\n",
    "# Take the average of each word's search index \n",
    "# LIMITATION should have more proper weight (e.g. regression coefficient between each word and death rate)\n",
    "\n",
    "IBM[\"covid_search\"] = IBM[['coronavirus', 'covid-19', 'lockdown', 'mask', \n",
    "                           'pandemic', 'quarantine', 'vaccine']].mean(axis=1)\n",
    "IBM = IBM.drop(['coronavirus', 'covid-19', 'lockdown', 'mask', \n",
    "                  'pandemic', 'quarantine', 'vaccine'],axis=1)\n",
    "\n",
    "### Add firm indicator\n",
    "IBM[\"firm\"] = \"IBM\"\n",
    "IBM.head()"
   ]
  },
  {
   "cell_type": "code",
   "execution_count": 4,
   "id": "9464382d",
   "metadata": {},
   "outputs": [
    {
     "data": {
      "text/html": [
       "<div>\n",
       "<style scoped>\n",
       "    .dataframe tbody tr th:only-of-type {\n",
       "        vertical-align: middle;\n",
       "    }\n",
       "\n",
       "    .dataframe tbody tr th {\n",
       "        vertical-align: top;\n",
       "    }\n",
       "\n",
       "    .dataframe thead th {\n",
       "        text-align: right;\n",
       "    }\n",
       "</style>\n",
       "<table border=\"1\" class=\"dataframe\">\n",
       "  <thead>\n",
       "    <tr style=\"text-align: right;\">\n",
       "      <th></th>\n",
       "      <th>Open</th>\n",
       "      <th>High</th>\n",
       "      <th>Low</th>\n",
       "      <th>Close</th>\n",
       "      <th>Adj Close</th>\n",
       "      <th>Volume</th>\n",
       "      <th>return %</th>\n",
       "      <th>positive</th>\n",
       "      <th>covid_search</th>\n",
       "      <th>firm</th>\n",
       "    </tr>\n",
       "    <tr>\n",
       "      <th>date</th>\n",
       "      <th></th>\n",
       "      <th></th>\n",
       "      <th></th>\n",
       "      <th></th>\n",
       "      <th></th>\n",
       "      <th></th>\n",
       "      <th></th>\n",
       "      <th></th>\n",
       "      <th></th>\n",
       "      <th></th>\n",
       "    </tr>\n",
       "  </thead>\n",
       "  <tbody>\n",
       "    <tr>\n",
       "      <th>2019-11-04</th>\n",
       "      <td>55.259998</td>\n",
       "      <td>55.750000</td>\n",
       "      <td>55.259998</td>\n",
       "      <td>55.450001</td>\n",
       "      <td>52.749176</td>\n",
       "      <td>8757000</td>\n",
       "      <td>0.818181</td>\n",
       "      <td>1</td>\n",
       "      <td>1.298571</td>\n",
       "      <td>Oracle</td>\n",
       "    </tr>\n",
       "    <tr>\n",
       "      <th>2019-11-05</th>\n",
       "      <td>55.759998</td>\n",
       "      <td>55.840000</td>\n",
       "      <td>55.509998</td>\n",
       "      <td>55.669998</td>\n",
       "      <td>52.958458</td>\n",
       "      <td>10759300</td>\n",
       "      <td>0.396749</td>\n",
       "      <td>1</td>\n",
       "      <td>1.302857</td>\n",
       "      <td>Oracle</td>\n",
       "    </tr>\n",
       "    <tr>\n",
       "      <th>2019-11-06</th>\n",
       "      <td>55.709999</td>\n",
       "      <td>55.889999</td>\n",
       "      <td>55.599998</td>\n",
       "      <td>55.700001</td>\n",
       "      <td>52.987007</td>\n",
       "      <td>10572100</td>\n",
       "      <td>0.053908</td>\n",
       "      <td>1</td>\n",
       "      <td>1.281429</td>\n",
       "      <td>Oracle</td>\n",
       "    </tr>\n",
       "    <tr>\n",
       "      <th>2019-11-07</th>\n",
       "      <td>55.959999</td>\n",
       "      <td>56.630001</td>\n",
       "      <td>55.860001</td>\n",
       "      <td>55.980000</td>\n",
       "      <td>53.253353</td>\n",
       "      <td>9677700</td>\n",
       "      <td>0.502663</td>\n",
       "      <td>1</td>\n",
       "      <td>1.347143</td>\n",
       "      <td>Oracle</td>\n",
       "    </tr>\n",
       "    <tr>\n",
       "      <th>2019-11-08</th>\n",
       "      <td>55.980000</td>\n",
       "      <td>56.490002</td>\n",
       "      <td>55.770000</td>\n",
       "      <td>56.490002</td>\n",
       "      <td>53.738525</td>\n",
       "      <td>5869600</td>\n",
       "      <td>0.911064</td>\n",
       "      <td>1</td>\n",
       "      <td>1.338571</td>\n",
       "      <td>Oracle</td>\n",
       "    </tr>\n",
       "  </tbody>\n",
       "</table>\n",
       "</div>"
      ],
      "text/plain": [
       "                 Open       High        Low      Close  Adj Close    Volume  \\\n",
       "date                                                                          \n",
       "2019-11-04  55.259998  55.750000  55.259998  55.450001  52.749176   8757000   \n",
       "2019-11-05  55.759998  55.840000  55.509998  55.669998  52.958458  10759300   \n",
       "2019-11-06  55.709999  55.889999  55.599998  55.700001  52.987007  10572100   \n",
       "2019-11-07  55.959999  56.630001  55.860001  55.980000  53.253353   9677700   \n",
       "2019-11-08  55.980000  56.490002  55.770000  56.490002  53.738525   5869600   \n",
       "\n",
       "            return %  positive  covid_search    firm  \n",
       "date                                                  \n",
       "2019-11-04  0.818181         1      1.298571  Oracle  \n",
       "2019-11-05  0.396749         1      1.302857  Oracle  \n",
       "2019-11-06  0.053908         1      1.281429  Oracle  \n",
       "2019-11-07  0.502663         1      1.347143  Oracle  \n",
       "2019-11-08  0.911064         1      1.338571  Oracle  "
      ]
     },
     "execution_count": 4,
     "metadata": {},
     "output_type": "execute_result"
    }
   ],
   "source": [
    "oracle = pd.read_csv(\"ORCL.csv\")\n",
    "\n",
    "### Convert 'date' column to pd.datetime object\n",
    "oracle = oracle.rename(columns={\"Date\": \"date\"})\n",
    "oracle['date'] = pd.to_datetime(oracle['date'], format='%Y-%m-%d')\n",
    "\n",
    "### Index by date\n",
    "oracle = oracle.set_index('date')\n",
    "\n",
    "### Calculate return in % and map to binary response\n",
    "oracle[\"return %\"] = oracle['Adj Close'].pct_change()*100\n",
    "oracle = oracle.dropna(subset=['return %'])\n",
    "oracle['positive'] = np.where(oracle['return %']>0, 1, 0)\n",
    "\n",
    "### Add covid search index\n",
    "oracle['covid_search'] = IBM['covid_search'].values\n",
    "\n",
    "### Add firm indicator\n",
    "oracle[\"firm\"] = \"Oracle\"\n",
    "\n",
    "oracle.head()"
   ]
  },
  {
   "cell_type": "code",
   "execution_count": 5,
   "id": "f68f9ebc",
   "metadata": {},
   "outputs": [
    {
     "data": {
      "text/html": [
       "<div>\n",
       "<style scoped>\n",
       "    .dataframe tbody tr th:only-of-type {\n",
       "        vertical-align: middle;\n",
       "    }\n",
       "\n",
       "    .dataframe tbody tr th {\n",
       "        vertical-align: top;\n",
       "    }\n",
       "\n",
       "    .dataframe thead th {\n",
       "        text-align: right;\n",
       "    }\n",
       "</style>\n",
       "<table border=\"1\" class=\"dataframe\">\n",
       "  <thead>\n",
       "    <tr style=\"text-align: right;\">\n",
       "      <th></th>\n",
       "      <th>Open</th>\n",
       "      <th>High</th>\n",
       "      <th>Low</th>\n",
       "      <th>Close</th>\n",
       "      <th>Adj Close</th>\n",
       "      <th>Volume</th>\n",
       "      <th>return %</th>\n",
       "      <th>positive</th>\n",
       "      <th>covid_search</th>\n",
       "      <th>firm</th>\n",
       "    </tr>\n",
       "    <tr>\n",
       "      <th>date</th>\n",
       "      <th></th>\n",
       "      <th></th>\n",
       "      <th></th>\n",
       "      <th></th>\n",
       "      <th></th>\n",
       "      <th></th>\n",
       "      <th></th>\n",
       "      <th></th>\n",
       "      <th></th>\n",
       "      <th></th>\n",
       "    </tr>\n",
       "  </thead>\n",
       "  <tbody>\n",
       "    <tr>\n",
       "      <th>2019-11-04</th>\n",
       "      <td>144.830002</td>\n",
       "      <td>145.000000</td>\n",
       "      <td>144.160004</td>\n",
       "      <td>144.550003</td>\n",
       "      <td>140.052414</td>\n",
       "      <td>16912000</td>\n",
       "      <td>0.577507</td>\n",
       "      <td>1</td>\n",
       "      <td>1.298571</td>\n",
       "      <td>Microsoft</td>\n",
       "    </tr>\n",
       "    <tr>\n",
       "      <th>2019-11-05</th>\n",
       "      <td>144.970001</td>\n",
       "      <td>145.020004</td>\n",
       "      <td>143.910004</td>\n",
       "      <td>144.460007</td>\n",
       "      <td>139.965225</td>\n",
       "      <td>18250200</td>\n",
       "      <td>-0.062255</td>\n",
       "      <td>0</td>\n",
       "      <td>1.302857</td>\n",
       "      <td>Microsoft</td>\n",
       "    </tr>\n",
       "    <tr>\n",
       "      <th>2019-11-06</th>\n",
       "      <td>144.369995</td>\n",
       "      <td>144.520004</td>\n",
       "      <td>143.199997</td>\n",
       "      <td>144.059998</td>\n",
       "      <td>139.577652</td>\n",
       "      <td>16575800</td>\n",
       "      <td>-0.276907</td>\n",
       "      <td>0</td>\n",
       "      <td>1.281429</td>\n",
       "      <td>Microsoft</td>\n",
       "    </tr>\n",
       "    <tr>\n",
       "      <th>2019-11-07</th>\n",
       "      <td>143.839996</td>\n",
       "      <td>144.880005</td>\n",
       "      <td>143.770004</td>\n",
       "      <td>144.259995</td>\n",
       "      <td>139.771393</td>\n",
       "      <td>17786700</td>\n",
       "      <td>0.138805</td>\n",
       "      <td>1</td>\n",
       "      <td>1.347143</td>\n",
       "      <td>Microsoft</td>\n",
       "    </tr>\n",
       "    <tr>\n",
       "      <th>2019-11-08</th>\n",
       "      <td>143.979996</td>\n",
       "      <td>145.990005</td>\n",
       "      <td>143.759995</td>\n",
       "      <td>145.960007</td>\n",
       "      <td>141.418564</td>\n",
       "      <td>16732700</td>\n",
       "      <td>1.178475</td>\n",
       "      <td>1</td>\n",
       "      <td>1.338571</td>\n",
       "      <td>Microsoft</td>\n",
       "    </tr>\n",
       "  </tbody>\n",
       "</table>\n",
       "</div>"
      ],
      "text/plain": [
       "                  Open        High         Low       Close   Adj Close  \\\n",
       "date                                                                     \n",
       "2019-11-04  144.830002  145.000000  144.160004  144.550003  140.052414   \n",
       "2019-11-05  144.970001  145.020004  143.910004  144.460007  139.965225   \n",
       "2019-11-06  144.369995  144.520004  143.199997  144.059998  139.577652   \n",
       "2019-11-07  143.839996  144.880005  143.770004  144.259995  139.771393   \n",
       "2019-11-08  143.979996  145.990005  143.759995  145.960007  141.418564   \n",
       "\n",
       "              Volume  return %  positive  covid_search       firm  \n",
       "date                                                               \n",
       "2019-11-04  16912000  0.577507         1      1.298571  Microsoft  \n",
       "2019-11-05  18250200 -0.062255         0      1.302857  Microsoft  \n",
       "2019-11-06  16575800 -0.276907         0      1.281429  Microsoft  \n",
       "2019-11-07  17786700  0.138805         1      1.347143  Microsoft  \n",
       "2019-11-08  16732700  1.178475         1      1.338571  Microsoft  "
      ]
     },
     "execution_count": 5,
     "metadata": {},
     "output_type": "execute_result"
    }
   ],
   "source": [
    "microsoft = pd.read_csv(\"MSFT.csv\")\n",
    "\n",
    "### Convert 'date' column to pd.datetime object\n",
    "microsoft = microsoft.rename(columns={\"Date\": \"date\"})\n",
    "microsoft['date'] = pd.to_datetime(microsoft['date'], format='%Y-%m-%d')\n",
    "\n",
    "### Index by date\n",
    "microsoft = microsoft.set_index('date')\n",
    "\n",
    "### Calculate return in % and map to binary response\n",
    "microsoft[\"return %\"] = microsoft['Adj Close'].pct_change()*100\n",
    "microsoft = microsoft.dropna(subset=['return %'])\n",
    "microsoft['positive'] = np.where(microsoft['return %']>0, 1, 0)\n",
    "\n",
    "### Add covid search index\n",
    "microsoft['covid_search'] = IBM['covid_search'].values\n",
    "\n",
    "### Add firm indicator\n",
    "microsoft[\"firm\"] = \"Microsoft\"\n",
    "\n",
    "microsoft.head()"
   ]
  },
  {
   "cell_type": "code",
   "execution_count": 6,
   "id": "d41b2416",
   "metadata": {},
   "outputs": [],
   "source": [
    "sns.set_theme()"
   ]
  },
  {
   "cell_type": "code",
   "execution_count": 7,
   "id": "07006c52",
   "metadata": {},
   "outputs": [
    {
     "data": {
      "text/plain": [
       "Text(0.5, 1.0, 'Stock Prices Nov 1, 2019 - Nov 1, 2022')"
      ]
     },
     "execution_count": 7,
     "metadata": {},
     "output_type": "execute_result"
    },
    {
     "data": {
      "image/png": "[encoded data removed]",
      "text/plain": [
       "<Figure size 720x720 with 1 Axes>"
      ]
     },
     "metadata": {},
     "output_type": "display_data"
    }
   ],
   "source": [
    "# Plot the stock price across time\n",
    "plt.figure(figsize=(10,10))\n",
    "plt.plot(IBM['Adj Close'], label=\"IBM\")\n",
    "plt.plot(oracle['Adj Close'], label=\"Oracle\")\n",
    "plt.plot(microsoft['Adj Close'], label=\"Microsoft\")\n",
    "plt.xlabel(\"Date\")\n",
    "plt.ylabel(\"Adjusted Close Price (in USD)\")\n",
    "plt.legend(loc = \"upper right\")\n",
    "plt.title(\"Stock Prices Nov 1, 2019 - Nov 1, 2022\")"
   ]
  },
  {
   "cell_type": "code",
   "execution_count": 8,
   "id": "eeefa5f1",
   "metadata": {},
   "outputs": [
    {
     "data": {
      "text/plain": [
       "Text(0.5, 1.0, 'Stock Return versus COVID search popularity')"
      ]
     },
     "execution_count": 8,
     "metadata": {},
     "output_type": "execute_result"
    },
    {
     "data": {
      "image/png": "[encoded data removed]",
      "text/plain": [
       "<Figure size 720x720 with 1 Axes>"
      ]
     },
     "metadata": {},
     "output_type": "display_data"
    }
   ],
   "source": [
    "# Plot stock return across time\n",
    "plt.figure(figsize=(10,10))\n",
    "plt.plot(IBM['covid_search'], label=\"Covid Search Index\")\n",
    "plt.plot(IBM['return %'], label=\"IBM Stock Return\")\n",
    "plt.plot(oracle['return %'], label=\"Oracle Stock Return\")\n",
    "plt.plot(microsoft['return %'], label=\"Microsoft Stock Return\")\n",
    "plt.xlabel(\"Date\")\n",
    "plt.legend(loc = \"upper right\")\n",
    "plt.title(\"Stock Return versus COVID search popularity\")"
   ]
  },
  {
   "cell_type": "markdown",
   "id": "26c94b8d",
   "metadata": {},
   "source": [
    "# Methods"
   ]
  },
  {
   "cell_type": "markdown",
   "id": "3dcc51b5",
   "metadata": {},
   "source": [
    "## Train-test split for ALL MODELS"
   ]
  },
  {
   "cell_type": "code",
   "execution_count": 9,
   "id": "36030377",
   "metadata": {},
   "outputs": [
    {
     "name": "stdout",
     "output_type": "stream",
     "text": [
      "['Open', 'High', 'Low', 'Volume', 'covid_search', 'firm']\n"
     ]
    }
   ],
   "source": [
    "# Extract Features input \n",
    "features = list(IBM.columns)\n",
    "features.remove('Close')\n",
    "features.remove('Adj Close')\n",
    "features.remove('return %')\n",
    "features.remove('positive')\n",
    "\n",
    "print(features)"
   ]
  },
  {
   "cell_type": "code",
   "execution_count": 10,
   "id": "09ac5f3f",
   "metadata": {},
   "outputs": [],
   "source": [
    "from sklearn.model_selection import train_test_split \n",
    "#X: data[features]\n",
    "#y: data['positive']\n",
    "ibm_X_train, ibm_X_test, ibm_y_train, ibm_y_test = train_test_split(IBM[features], \n",
    "                                                                    IBM['positive'],\n",
    "                                                                    test_size=0.2, \n",
    "                                                                    shuffle=False)\n",
    "#not to shuffle the data before splitting to preserve time indexing"
   ]
  },
  {
   "cell_type": "code",
   "execution_count": 11,
   "id": "4b0641dd",
   "metadata": {},
   "outputs": [],
   "source": [
    "oracle_X_train, oracle_X_test, oracle_y_train, oracle_y_test = train_test_split(oracle[features], \n",
    "                                                                    oracle['positive'],\n",
    "                                                                    test_size=0.2, \n",
    "                                                                    shuffle=False)"
   ]
  },
  {
   "cell_type": "code",
   "execution_count": 12,
   "id": "e65e3952",
   "metadata": {},
   "outputs": [],
   "source": [
    "ms_X_train, ms_X_test, ms_y_train, ms_y_test = train_test_split(microsoft[features], \n",
    "                                                                microsoft['positive'],\n",
    "                                                                test_size=0.2, \n",
    "                                                                shuffle=False)"
   ]
  },
  {
   "cell_type": "code",
   "execution_count": 13,
   "id": "9a0a4094",
   "metadata": {},
   "outputs": [],
   "source": [
    "X_train = pd.concat([ibm_X_train, oracle_X_train, ms_X_train])\n",
    "y_train = pd.concat([ibm_y_train, oracle_y_train, ms_y_train])\n",
    "\n",
    "X_test = pd.concat([ibm_X_test, oracle_X_test, ms_X_test])\n",
    "y_test = pd.concat([ibm_y_test, oracle_y_test, ms_y_test])"
   ]
  },
  {
   "cell_type": "markdown",
   "id": "1dd2eb31",
   "metadata": {},
   "source": [
    "## Data Processing for models"
   ]
  },
  {
   "cell_type": "markdown",
   "id": "38999244",
   "metadata": {},
   "source": [
    "### Encode firm labels with value between 0 and 2."
   ]
  },
  {
   "cell_type": "code",
   "execution_count": 14,
   "id": "06ddf2e6",
   "metadata": {},
   "outputs": [],
   "source": [
    "from sklearn.preprocessing import LabelEncoder\n",
    "encoder = LabelEncoder().fit(X_train['firm'])\n",
    "\n",
    "X_train['firm'] = encoder.transform(X_train['firm'])\n",
    "X_test['firm'] = encoder.transform(X_test['firm'])"
   ]
  },
  {
   "cell_type": "code",
   "execution_count": 15,
   "id": "3851b23d",
   "metadata": {},
   "outputs": [
    {
     "data": {
      "text/plain": [
       "'Microsoft'"
      ]
     },
     "execution_count": 15,
     "metadata": {},
     "output_type": "execute_result"
    }
   ],
   "source": [
    "list(encoder.inverse_transform(X_train['firm']))[-1]\n",
    "list(encoder.inverse_transform(X_test['firm']))[-1]"
   ]
  },
  {
   "cell_type": "markdown",
   "id": "7339502f",
   "metadata": {},
   "source": [
    "### Scale all input variables, train AND test"
   ]
  },
  {
   "cell_type": "code",
   "execution_count": 16,
   "id": "a5821158",
   "metadata": {},
   "outputs": [],
   "source": [
    "from sklearn.preprocessing import StandardScaler\n",
    "scaler = StandardScaler().fit(X_train)\n",
    "\n",
    "scaled_X_train = scaler.transform(X_train)\n",
    "scaled_X_test = scaler.transform(X_test)"
   ]
  },
  {
   "cell_type": "code",
   "execution_count": 17,
   "id": "86d8d9d0",
   "metadata": {},
   "outputs": [
    {
     "data": {
      "text/html": [
       "<div>\n",
       "<style scoped>\n",
       "    .dataframe tbody tr th:only-of-type {\n",
       "        vertical-align: middle;\n",
       "    }\n",
       "\n",
       "    .dataframe tbody tr th {\n",
       "        vertical-align: top;\n",
       "    }\n",
       "\n",
       "    .dataframe thead th {\n",
       "        text-align: right;\n",
       "    }\n",
       "</style>\n",
       "<table border=\"1\" class=\"dataframe\">\n",
       "  <thead>\n",
       "    <tr style=\"text-align: right;\">\n",
       "      <th></th>\n",
       "      <th>0</th>\n",
       "      <th>1</th>\n",
       "      <th>2</th>\n",
       "      <th>3</th>\n",
       "      <th>4</th>\n",
       "      <th>5</th>\n",
       "    </tr>\n",
       "    <tr>\n",
       "      <th>date</th>\n",
       "      <th></th>\n",
       "      <th></th>\n",
       "      <th></th>\n",
       "      <th></th>\n",
       "      <th></th>\n",
       "      <th></th>\n",
       "    </tr>\n",
       "  </thead>\n",
       "  <tbody>\n",
       "    <tr>\n",
       "      <th>2019-11-04</th>\n",
       "      <td>-0.164425</td>\n",
       "      <td>-0.163793</td>\n",
       "      <td>-0.147089</td>\n",
       "      <td>-0.885952</td>\n",
       "      <td>-1.109672</td>\n",
       "      <td>-1.224745</td>\n",
       "    </tr>\n",
       "    <tr>\n",
       "      <th>2019-11-05</th>\n",
       "      <td>-0.145072</td>\n",
       "      <td>-0.151250</td>\n",
       "      <td>-0.129538</td>\n",
       "      <td>-0.908979</td>\n",
       "      <td>-1.109151</td>\n",
       "      <td>-1.224745</td>\n",
       "    </tr>\n",
       "    <tr>\n",
       "      <th>2019-11-06</th>\n",
       "      <td>-0.142591</td>\n",
       "      <td>-0.151004</td>\n",
       "      <td>-0.130541</td>\n",
       "      <td>-0.803881</td>\n",
       "      <td>-1.111758</td>\n",
       "      <td>-1.224745</td>\n",
       "    </tr>\n",
       "    <tr>\n",
       "      <th>2019-11-07</th>\n",
       "      <td>-0.144204</td>\n",
       "      <td>-0.146577</td>\n",
       "      <td>-0.130165</td>\n",
       "      <td>-0.832881</td>\n",
       "      <td>-1.103762</td>\n",
       "      <td>-1.224745</td>\n",
       "    </tr>\n",
       "    <tr>\n",
       "      <th>2019-11-08</th>\n",
       "      <td>-0.147801</td>\n",
       "      <td>-0.165391</td>\n",
       "      <td>-0.147966</td>\n",
       "      <td>-0.961920</td>\n",
       "      <td>-1.104805</td>\n",
       "      <td>-1.224745</td>\n",
       "    </tr>\n",
       "  </tbody>\n",
       "</table>\n",
       "</div>"
      ],
      "text/plain": [
       "                   0         1         2         3         4         5\n",
       "date                                                                  \n",
       "2019-11-04 -0.164425 -0.163793 -0.147089 -0.885952 -1.109672 -1.224745\n",
       "2019-11-05 -0.145072 -0.151250 -0.129538 -0.908979 -1.109151 -1.224745\n",
       "2019-11-06 -0.142591 -0.151004 -0.130541 -0.803881 -1.111758 -1.224745\n",
       "2019-11-07 -0.144204 -0.146577 -0.130165 -0.832881 -1.103762 -1.224745\n",
       "2019-11-08 -0.147801 -0.165391 -0.147966 -0.961920 -1.104805 -1.224745"
      ]
     },
     "execution_count": 17,
     "metadata": {},
     "output_type": "execute_result"
    }
   ],
   "source": [
    "pd.DataFrame(scaled_X_train, index=X_train.index).head()"
   ]
  },
  {
   "cell_type": "markdown",
   "id": "e9091926",
   "metadata": {},
   "source": [
    "## Model 1: Logit with LASSO penalty\n",
    "- The first model we fit to our data is a **LASSO (L1 Penalty)** penalized logistic regression\n",
    "- LASSO can help do variable selection. LASSO penalty shrinks \"irrelvant\" coefficients to exactly zero"
   ]
  },
  {
   "cell_type": "markdown",
   "id": "15aeab7c",
   "metadata": {},
   "source": [
    "### LASSO (L1-penalized) Logit model"
   ]
  },
  {
   "cell_type": "markdown",
   "id": "0017e6db",
   "metadata": {},
   "source": [
    "### Cross validation to choose optimal tuning parameter of the L1 penalty term. The criteria is maximization of accuracy"
   ]
  },
  {
   "cell_type": "code",
   "execution_count": 23,
   "id": "f196b5f6",
   "metadata": {},
   "outputs": [
    {
     "name": "stdout",
     "output_type": "stream",
     "text": [
      "0.1\n",
      "0.2\n",
      "0.3\n",
      "0.4\n"
     ]
    },
    {
     "name": "stderr",
     "output_type": "stream",
     "text": [
      "/Users/crystal-liu/opt/anaconda3/lib/python3.9/site-packages/sklearn/svm/_base.py:1206: ConvergenceWarning: Liblinear failed to converge, increase the number of iterations.\n",
      "  warnings.warn(\n",
      "/Users/crystal-liu/opt/anaconda3/lib/python3.9/site-packages/sklearn/svm/_base.py:1206: ConvergenceWarning: Liblinear failed to converge, increase the number of iterations.\n",
      "  warnings.warn(\n",
      "/Users/crystal-liu/opt/anaconda3/lib/python3.9/site-packages/sklearn/svm/_base.py:1206: ConvergenceWarning: Liblinear failed to converge, increase the number of iterations.\n",
      "  warnings.warn(\n"
     ]
    },
    {
     "name": "stdout",
     "output_type": "stream",
     "text": [
      "0.5\n"
     ]
    },
    {
     "name": "stderr",
     "output_type": "stream",
     "text": [
      "/Users/crystal-liu/opt/anaconda3/lib/python3.9/site-packages/sklearn/svm/_base.py:1206: ConvergenceWarning: Liblinear failed to converge, increase the number of iterations.\n",
      "  warnings.warn(\n",
      "/Users/crystal-liu/opt/anaconda3/lib/python3.9/site-packages/sklearn/svm/_base.py:1206: ConvergenceWarning: Liblinear failed to converge, increase the number of iterations.\n",
      "  warnings.warn(\n",
      "/Users/crystal-liu/opt/anaconda3/lib/python3.9/site-packages/sklearn/svm/_base.py:1206: ConvergenceWarning: Liblinear failed to converge, increase the number of iterations.\n",
      "  warnings.warn(\n",
      "/Users/crystal-liu/opt/anaconda3/lib/python3.9/site-packages/sklearn/svm/_base.py:1206: ConvergenceWarning: Liblinear failed to converge, increase the number of iterations.\n",
      "  warnings.warn(\n",
      "/Users/crystal-liu/opt/anaconda3/lib/python3.9/site-packages/sklearn/svm/_base.py:1206: ConvergenceWarning: Liblinear failed to converge, increase the number of iterations.\n",
      "  warnings.warn(\n",
      "/Users/crystal-liu/opt/anaconda3/lib/python3.9/site-packages/sklearn/svm/_base.py:1206: ConvergenceWarning: Liblinear failed to converge, increase the number of iterations.\n",
      "  warnings.warn(\n",
      "/Users/crystal-liu/opt/anaconda3/lib/python3.9/site-packages/sklearn/svm/_base.py:1206: ConvergenceWarning: Liblinear failed to converge, increase the number of iterations.\n",
      "  warnings.warn(\n",
      "/Users/crystal-liu/opt/anaconda3/lib/python3.9/site-packages/sklearn/svm/_base.py:1206: ConvergenceWarning: Liblinear failed to converge, increase the number of iterations.\n",
      "  warnings.warn(\n",
      "/Users/crystal-liu/opt/anaconda3/lib/python3.9/site-packages/sklearn/svm/_base.py:1206: ConvergenceWarning: Liblinear failed to converge, increase the number of iterations.\n",
      "  warnings.warn(\n"
     ]
    },
    {
     "name": "stdout",
     "output_type": "stream",
     "text": [
      "0.6\n"
     ]
    },
    {
     "name": "stderr",
     "output_type": "stream",
     "text": [
      "/Users/crystal-liu/opt/anaconda3/lib/python3.9/site-packages/sklearn/svm/_base.py:1206: ConvergenceWarning: Liblinear failed to converge, increase the number of iterations.\n",
      "  warnings.warn(\n",
      "/Users/crystal-liu/opt/anaconda3/lib/python3.9/site-packages/sklearn/svm/_base.py:1206: ConvergenceWarning: Liblinear failed to converge, increase the number of iterations.\n",
      "  warnings.warn(\n",
      "/Users/crystal-liu/opt/anaconda3/lib/python3.9/site-packages/sklearn/svm/_base.py:1206: ConvergenceWarning: Liblinear failed to converge, increase the number of iterations.\n",
      "  warnings.warn(\n",
      "/Users/crystal-liu/opt/anaconda3/lib/python3.9/site-packages/sklearn/svm/_base.py:1206: ConvergenceWarning: Liblinear failed to converge, increase the number of iterations.\n",
      "  warnings.warn(\n",
      "/Users/crystal-liu/opt/anaconda3/lib/python3.9/site-packages/sklearn/svm/_base.py:1206: ConvergenceWarning: Liblinear failed to converge, increase the number of iterations.\n",
      "  warnings.warn(\n",
      "/Users/crystal-liu/opt/anaconda3/lib/python3.9/site-packages/sklearn/svm/_base.py:1206: ConvergenceWarning: Liblinear failed to converge, increase the number of iterations.\n",
      "  warnings.warn(\n",
      "/Users/crystal-liu/opt/anaconda3/lib/python3.9/site-packages/sklearn/svm/_base.py:1206: ConvergenceWarning: Liblinear failed to converge, increase the number of iterations.\n",
      "  warnings.warn(\n",
      "/Users/crystal-liu/opt/anaconda3/lib/python3.9/site-packages/sklearn/svm/_base.py:1206: ConvergenceWarning: Liblinear failed to converge, increase the number of iterations.\n",
      "  warnings.warn(\n",
      "/Users/crystal-liu/opt/anaconda3/lib/python3.9/site-packages/sklearn/svm/_base.py:1206: ConvergenceWarning: Liblinear failed to converge, increase the number of iterations.\n",
      "  warnings.warn(\n"
     ]
    },
    {
     "name": "stdout",
     "output_type": "stream",
     "text": [
      "0.7\n"
     ]
    },
    {
     "name": "stderr",
     "output_type": "stream",
     "text": [
      "/Users/crystal-liu/opt/anaconda3/lib/python3.9/site-packages/sklearn/svm/_base.py:1206: ConvergenceWarning: Liblinear failed to converge, increase the number of iterations.\n",
      "  warnings.warn(\n",
      "/Users/crystal-liu/opt/anaconda3/lib/python3.9/site-packages/sklearn/svm/_base.py:1206: ConvergenceWarning: Liblinear failed to converge, increase the number of iterations.\n",
      "  warnings.warn(\n",
      "/Users/crystal-liu/opt/anaconda3/lib/python3.9/site-packages/sklearn/svm/_base.py:1206: ConvergenceWarning: Liblinear failed to converge, increase the number of iterations.\n",
      "  warnings.warn(\n",
      "/Users/crystal-liu/opt/anaconda3/lib/python3.9/site-packages/sklearn/svm/_base.py:1206: ConvergenceWarning: Liblinear failed to converge, increase the number of iterations.\n",
      "  warnings.warn(\n",
      "/Users/crystal-liu/opt/anaconda3/lib/python3.9/site-packages/sklearn/svm/_base.py:1206: ConvergenceWarning: Liblinear failed to converge, increase the number of iterations.\n",
      "  warnings.warn(\n",
      "/Users/crystal-liu/opt/anaconda3/lib/python3.9/site-packages/sklearn/svm/_base.py:1206: ConvergenceWarning: Liblinear failed to converge, increase the number of iterations.\n",
      "  warnings.warn(\n",
      "/Users/crystal-liu/opt/anaconda3/lib/python3.9/site-packages/sklearn/svm/_base.py:1206: ConvergenceWarning: Liblinear failed to converge, increase the number of iterations.\n",
      "  warnings.warn(\n",
      "/Users/crystal-liu/opt/anaconda3/lib/python3.9/site-packages/sklearn/svm/_base.py:1206: ConvergenceWarning: Liblinear failed to converge, increase the number of iterations.\n",
      "  warnings.warn(\n",
      "/Users/crystal-liu/opt/anaconda3/lib/python3.9/site-packages/sklearn/svm/_base.py:1206: ConvergenceWarning: Liblinear failed to converge, increase the number of iterations.\n",
      "  warnings.warn(\n",
      "/Users/crystal-liu/opt/anaconda3/lib/python3.9/site-packages/sklearn/svm/_base.py:1206: ConvergenceWarning: Liblinear failed to converge, increase the number of iterations.\n",
      "  warnings.warn(\n"
     ]
    },
    {
     "name": "stdout",
     "output_type": "stream",
     "text": [
      "0.8\n"
     ]
    },
    {
     "name": "stderr",
     "output_type": "stream",
     "text": [
      "/Users/crystal-liu/opt/anaconda3/lib/python3.9/site-packages/sklearn/svm/_base.py:1206: ConvergenceWarning: Liblinear failed to converge, increase the number of iterations.\n",
      "  warnings.warn(\n",
      "/Users/crystal-liu/opt/anaconda3/lib/python3.9/site-packages/sklearn/svm/_base.py:1206: ConvergenceWarning: Liblinear failed to converge, increase the number of iterations.\n",
      "  warnings.warn(\n",
      "/Users/crystal-liu/opt/anaconda3/lib/python3.9/site-packages/sklearn/svm/_base.py:1206: ConvergenceWarning: Liblinear failed to converge, increase the number of iterations.\n",
      "  warnings.warn(\n",
      "/Users/crystal-liu/opt/anaconda3/lib/python3.9/site-packages/sklearn/svm/_base.py:1206: ConvergenceWarning: Liblinear failed to converge, increase the number of iterations.\n",
      "  warnings.warn(\n",
      "/Users/crystal-liu/opt/anaconda3/lib/python3.9/site-packages/sklearn/svm/_base.py:1206: ConvergenceWarning: Liblinear failed to converge, increase the number of iterations.\n",
      "  warnings.warn(\n",
      "/Users/crystal-liu/opt/anaconda3/lib/python3.9/site-packages/sklearn/svm/_base.py:1206: ConvergenceWarning: Liblinear failed to converge, increase the number of iterations.\n",
      "  warnings.warn(\n",
      "/Users/crystal-liu/opt/anaconda3/lib/python3.9/site-packages/sklearn/svm/_base.py:1206: ConvergenceWarning: Liblinear failed to converge, increase the number of iterations.\n",
      "  warnings.warn(\n",
      "/Users/crystal-liu/opt/anaconda3/lib/python3.9/site-packages/sklearn/svm/_base.py:1206: ConvergenceWarning: Liblinear failed to converge, increase the number of iterations.\n",
      "  warnings.warn(\n",
      "/Users/crystal-liu/opt/anaconda3/lib/python3.9/site-packages/sklearn/svm/_base.py:1206: ConvergenceWarning: Liblinear failed to converge, increase the number of iterations.\n",
      "  warnings.warn(\n",
      "/Users/crystal-liu/opt/anaconda3/lib/python3.9/site-packages/sklearn/svm/_base.py:1206: ConvergenceWarning: Liblinear failed to converge, increase the number of iterations.\n",
      "  warnings.warn(\n"
     ]
    },
    {
     "name": "stdout",
     "output_type": "stream",
     "text": [
      "0.9\n"
     ]
    },
    {
     "name": "stderr",
     "output_type": "stream",
     "text": [
      "/Users/crystal-liu/opt/anaconda3/lib/python3.9/site-packages/sklearn/svm/_base.py:1206: ConvergenceWarning: Liblinear failed to converge, increase the number of iterations.\n",
      "  warnings.warn(\n",
      "/Users/crystal-liu/opt/anaconda3/lib/python3.9/site-packages/sklearn/svm/_base.py:1206: ConvergenceWarning: Liblinear failed to converge, increase the number of iterations.\n",
      "  warnings.warn(\n",
      "/Users/crystal-liu/opt/anaconda3/lib/python3.9/site-packages/sklearn/svm/_base.py:1206: ConvergenceWarning: Liblinear failed to converge, increase the number of iterations.\n",
      "  warnings.warn(\n",
      "/Users/crystal-liu/opt/anaconda3/lib/python3.9/site-packages/sklearn/svm/_base.py:1206: ConvergenceWarning: Liblinear failed to converge, increase the number of iterations.\n",
      "  warnings.warn(\n",
      "/Users/crystal-liu/opt/anaconda3/lib/python3.9/site-packages/sklearn/svm/_base.py:1206: ConvergenceWarning: Liblinear failed to converge, increase the number of iterations.\n",
      "  warnings.warn(\n",
      "/Users/crystal-liu/opt/anaconda3/lib/python3.9/site-packages/sklearn/svm/_base.py:1206: ConvergenceWarning: Liblinear failed to converge, increase the number of iterations.\n",
      "  warnings.warn(\n",
      "/Users/crystal-liu/opt/anaconda3/lib/python3.9/site-packages/sklearn/svm/_base.py:1206: ConvergenceWarning: Liblinear failed to converge, increase the number of iterations.\n",
      "  warnings.warn(\n",
      "/Users/crystal-liu/opt/anaconda3/lib/python3.9/site-packages/sklearn/svm/_base.py:1206: ConvergenceWarning: Liblinear failed to converge, increase the number of iterations.\n",
      "  warnings.warn(\n",
      "/Users/crystal-liu/opt/anaconda3/lib/python3.9/site-packages/sklearn/svm/_base.py:1206: ConvergenceWarning: Liblinear failed to converge, increase the number of iterations.\n",
      "  warnings.warn(\n",
      "/Users/crystal-liu/opt/anaconda3/lib/python3.9/site-packages/sklearn/svm/_base.py:1206: ConvergenceWarning: Liblinear failed to converge, increase the number of iterations.\n",
      "  warnings.warn(\n"
     ]
    },
    {
     "name": "stdout",
     "output_type": "stream",
     "text": [
      "1\n"
     ]
    },
    {
     "name": "stderr",
     "output_type": "stream",
     "text": [
      "/Users/crystal-liu/opt/anaconda3/lib/python3.9/site-packages/sklearn/svm/_base.py:1206: ConvergenceWarning: Liblinear failed to converge, increase the number of iterations.\n",
      "  warnings.warn(\n",
      "/Users/crystal-liu/opt/anaconda3/lib/python3.9/site-packages/sklearn/svm/_base.py:1206: ConvergenceWarning: Liblinear failed to converge, increase the number of iterations.\n",
      "  warnings.warn(\n",
      "/Users/crystal-liu/opt/anaconda3/lib/python3.9/site-packages/sklearn/svm/_base.py:1206: ConvergenceWarning: Liblinear failed to converge, increase the number of iterations.\n",
      "  warnings.warn(\n",
      "/Users/crystal-liu/opt/anaconda3/lib/python3.9/site-packages/sklearn/svm/_base.py:1206: ConvergenceWarning: Liblinear failed to converge, increase the number of iterations.\n",
      "  warnings.warn(\n",
      "/Users/crystal-liu/opt/anaconda3/lib/python3.9/site-packages/sklearn/svm/_base.py:1206: ConvergenceWarning: Liblinear failed to converge, increase the number of iterations.\n",
      "  warnings.warn(\n",
      "/Users/crystal-liu/opt/anaconda3/lib/python3.9/site-packages/sklearn/svm/_base.py:1206: ConvergenceWarning: Liblinear failed to converge, increase the number of iterations.\n",
      "  warnings.warn(\n",
      "/Users/crystal-liu/opt/anaconda3/lib/python3.9/site-packages/sklearn/svm/_base.py:1206: ConvergenceWarning: Liblinear failed to converge, increase the number of iterations.\n",
      "  warnings.warn(\n",
      "/Users/crystal-liu/opt/anaconda3/lib/python3.9/site-packages/sklearn/svm/_base.py:1206: ConvergenceWarning: Liblinear failed to converge, increase the number of iterations.\n",
      "  warnings.warn(\n",
      "/Users/crystal-liu/opt/anaconda3/lib/python3.9/site-packages/sklearn/svm/_base.py:1206: ConvergenceWarning: Liblinear failed to converge, increase the number of iterations.\n",
      "  warnings.warn(\n",
      "/Users/crystal-liu/opt/anaconda3/lib/python3.9/site-packages/sklearn/svm/_base.py:1206: ConvergenceWarning: Liblinear failed to converge, increase the number of iterations.\n",
      "  warnings.warn(\n"
     ]
    },
    {
     "data": {
      "text/plain": [
       "{'0.1': 0.47406350555521826,\n",
       " '0.2': 0.47406350555521826,\n",
       " '0.3': 0.5016878149474835,\n",
       " '0.4': 0.7114140003642767,\n",
       " '0.5': 0.7362212373262097,\n",
       " '0.6': 0.7461356323234776,\n",
       " '0.7': 0.7505464149110558,\n",
       " '0.8': 0.7511019367372958,\n",
       " '0.9': 0.752200837836197,\n",
       " '1': 0.7538552607613381}"
      ]
     },
     "execution_count": 23,
     "metadata": {},
     "output_type": "execute_result"
    }
   ],
   "source": [
    "from sklearn.linear_model import LogisticRegression\n",
    "from sklearn.model_selection import cross_val_score\n",
    "\n",
    "# To record the average CV accuracy for each lambda value\n",
    "cv_scores_logit = {} \n",
    "\n",
    "#lambdas = [1, 0.1, 0.01] # C = inverse penalty strength, smaller c indiates stronger shrinkage\n",
    "lambdas = [0.1, 0.2, 0.3, 0.4, 0.5, 0.6, 0.7, 0.8, 0.9, 1]\n",
    "\n",
    "for c in lambdas:\n",
    "    print(c)\n",
    "    logit_ = LogisticRegression(penalty='l1', \n",
    "                                C=c,\n",
    "                                solver='liblinear', \n",
    "                                fit_intercept=False, \n",
    "                                random_state=481)\n",
    "    #logit_.fit(X_train_scaled, y_train)\n",
    "    scores = cross_val_score(logit_, \n",
    "                             scaled_X_train, \n",
    "                             y_train, \n",
    "                             scoring = 'accuracy',\n",
    "                             cv = 10)\n",
    "    cv_scores_logit[str(c)] = scores.mean()\n",
    "    del logit_\n",
    "\n",
    "cv_scores_logit"
   ]
  },
  {
   "cell_type": "code",
   "execution_count": 24,
   "id": "3c8128ab",
   "metadata": {},
   "outputs": [
    {
     "data": {
      "text/plain": [
       "Text(0, 0.5, '10-fold CV Accuracy')"
      ]
     },
     "execution_count": 24,
     "metadata": {},
     "output_type": "execute_result"
    },
    {
     "data": {
      "image/png": "[encoded data removed]",
      "text/plain": [
       "<Figure size 720x432 with 1 Axes>"
      ]
     },
     "metadata": {},
     "output_type": "display_data"
    }
   ],
   "source": [
    "plt.figure(figsize=(10, 6))\n",
    "plt.plot(lambdas, cv_scores_logit.values())\n",
    "plt.xlabel(\"Inverse penalty strength\")\n",
    "plt.ylabel(\"10-fold CV Accuracy\")"
   ]
  },
  {
   "cell_type": "markdown",
   "id": "553e2a1b",
   "metadata": {},
   "source": [
    "## Model 1 Results: Logit model with sklearn default L1 penalty "
   ]
  },
  {
   "cell_type": "markdown",
   "id": "a5d525ac",
   "metadata": {},
   "source": [
    "### Model 1 Coefficients"
   ]
  },
  {
   "cell_type": "code",
   "execution_count": 20,
   "id": "76dcefb9",
   "metadata": {},
   "outputs": [
    {
     "name": "stderr",
     "output_type": "stream",
     "text": [
      "/Users/crystal-liu/opt/anaconda3/lib/python3.9/site-packages/sklearn/svm/_base.py:1206: ConvergenceWarning: Liblinear failed to converge, increase the number of iterations.\n",
      "  warnings.warn(\n"
     ]
    }
   ],
   "source": [
    "logit = LogisticRegression(penalty='l1', \n",
    "                                C=1,\n",
    "                                solver='liblinear', \n",
    "                                fit_intercept=False, \n",
    "                                random_state=481)\n",
    "logit_fit = logit.fit(scaled_X_train, y_train)"
   ]
  },
  {
   "cell_type": "markdown",
   "id": "b5b4894a",
   "metadata": {},
   "source": [
    "### Model 1 Feature Importance"
   ]
  },
  {
   "cell_type": "code",
   "execution_count": 21,
   "id": "be6a7ad2",
   "metadata": {},
   "outputs": [
    {
     "data": {
      "text/html": [
       "<div>\n",
       "<style scoped>\n",
       "    .dataframe tbody tr th:only-of-type {\n",
       "        vertical-align: middle;\n",
       "    }\n",
       "\n",
       "    .dataframe tbody tr th {\n",
       "        vertical-align: top;\n",
       "    }\n",
       "\n",
       "    .dataframe thead th {\n",
       "        text-align: right;\n",
       "    }\n",
       "</style>\n",
       "<table border=\"1\" class=\"dataframe\">\n",
       "  <thead>\n",
       "    <tr style=\"text-align: right;\">\n",
       "      <th></th>\n",
       "      <th>Feature</th>\n",
       "      <th>Coefficient</th>\n",
       "      <th>Importance</th>\n",
       "    </tr>\n",
       "  </thead>\n",
       "  <tbody>\n",
       "    <tr>\n",
       "      <th>2</th>\n",
       "      <td>Low</td>\n",
       "      <td>38.226063</td>\n",
       "      <td>3.993632e+16</td>\n",
       "    </tr>\n",
       "    <tr>\n",
       "      <th>1</th>\n",
       "      <td>High</td>\n",
       "      <td>19.422751</td>\n",
       "      <td>2.723916e+08</td>\n",
       "    </tr>\n",
       "    <tr>\n",
       "      <th>3</th>\n",
       "      <td>Volume</td>\n",
       "      <td>0.142216</td>\n",
       "      <td>1.152825e+00</td>\n",
       "    </tr>\n",
       "    <tr>\n",
       "      <th>5</th>\n",
       "      <td>firm</td>\n",
       "      <td>-0.002232</td>\n",
       "      <td>9.977706e-01</td>\n",
       "    </tr>\n",
       "    <tr>\n",
       "      <th>4</th>\n",
       "      <td>covid_search</td>\n",
       "      <td>-0.052278</td>\n",
       "      <td>9.490647e-01</td>\n",
       "    </tr>\n",
       "    <tr>\n",
       "      <th>0</th>\n",
       "      <td>Open</td>\n",
       "      <td>-57.750378</td>\n",
       "      <td>8.304809e-26</td>\n",
       "    </tr>\n",
       "  </tbody>\n",
       "</table>\n",
       "</div>"
      ],
      "text/plain": [
       "        Feature  Coefficient    Importance\n",
       "2           Low    38.226063  3.993632e+16\n",
       "1          High    19.422751  2.723916e+08\n",
       "3        Volume     0.142216  1.152825e+00\n",
       "5          firm    -0.002232  9.977706e-01\n",
       "4  covid_search    -0.052278  9.490647e-01\n",
       "0          Open   -57.750378  8.304809e-26"
      ]
     },
     "execution_count": 21,
     "metadata": {},
     "output_type": "execute_result"
    }
   ],
   "source": [
    "import math\n",
    "coef_df = pd.DataFrame(logit_fit.coef_, columns=features)\n",
    "coef_df = coef_df.transpose()\n",
    "coef_df = coef_df.reset_index()\n",
    "coef_df = coef_df.rename(columns={ coef_df.columns[0]:\"Feature\", coef_df.columns[1]: \"Coefficient\" })\n",
    "coef_df['Importance'] = pow(math.e, coef_df['Coefficient'])\n",
    "coef_df = coef_df.sort_values(by = [\"Importance\"], ascending=False)\n",
    "\n",
    "coef_df"
   ]
  },
  {
   "cell_type": "markdown",
   "id": "96611d12",
   "metadata": {},
   "source": [
    "### Prediction Performance of Stock Up/Down using Model 1"
   ]
  },
  {
   "cell_type": "code",
   "execution_count": 22,
   "id": "d881aba5",
   "metadata": {},
   "outputs": [
    {
     "data": {
      "text/plain": [
       "0.7770419426048565"
      ]
     },
     "execution_count": 22,
     "metadata": {},
     "output_type": "execute_result"
    }
   ],
   "source": [
    "from sklearn.metrics import accuracy_score\n",
    "\n",
    "logit_acc = accuracy_score(y_test, logit.predict(scaled_X_test))\n",
    "logit_acc"
   ]
  },
  {
   "cell_type": "code",
   "execution_count": 23,
   "id": "a216c103",
   "metadata": {},
   "outputs": [
    {
     "data": {
      "text/plain": [
       "array([[174,  60],\n",
       "       [ 41, 178]])"
      ]
     },
     "execution_count": 23,
     "metadata": {},
     "output_type": "execute_result"
    }
   ],
   "source": [
    "# Plot the predictions: Confusion Matrix\n",
    "#plt.figure(figsize=(10,10))\n",
    "from sklearn.metrics import confusion_matrix\n",
    "logit_cm = confusion_matrix(y_test, logit.predict(scaled_X_test))\n",
    "logit_cm"
   ]
  },
  {
   "cell_type": "code",
   "execution_count": 24,
   "id": "7f0b1235",
   "metadata": {},
   "outputs": [
    {
     "data": {
      "image/png": "[encoded data removed]",
      "text/plain": [
       "<Figure size 432x288 with 2 Axes>"
      ]
     },
     "metadata": {},
     "output_type": "display_data"
    }
   ],
   "source": [
    "df_logit_cm = pd.DataFrame(logit_cm, range(2), range(2))\n",
    "#plt.figure(figsize=(10,10))\n",
    "sns.set(font_scale=1.4) # for label size\n",
    "sns.heatmap(df_logit_cm, annot=True, annot_kws={\"size\": 16}) # font size\n",
    "\n",
    "plt.show()"
   ]
  },
  {
   "cell_type": "code",
   "execution_count": 25,
   "id": "1d255b25",
   "metadata": {},
   "outputs": [
    {
     "name": "stdout",
     "output_type": "stream",
     "text": [
      "AUC: 0.778\n"
     ]
    }
   ],
   "source": [
    "#AUC score\n",
    "from sklearn.metrics import roc_auc_score\n",
    "auc_logit = roc_auc_score(y_test, logit.predict(scaled_X_test))\n",
    "print('AUC: %.3f' % auc_logit)"
   ]
  },
  {
   "cell_type": "code",
   "execution_count": 26,
   "id": "ef5c77fb",
   "metadata": {},
   "outputs": [
    {
     "name": "stdout",
     "output_type": "stream",
     "text": [
      "0.2229580573951435\n",
      "0.1071888537641964\n"
     ]
    }
   ],
   "source": [
    "### Get model performance metrics\n",
    "\n",
    "# MSE\n",
    "from sklearn.metrics import mean_squared_error\n",
    "print(mean_squared_error(y_test, logit.predict(scaled_X_test)))\n",
    "\n",
    "\n",
    "# R-squared\n",
    "from sklearn.metrics import r2_score\n",
    "print(r2_score(y_test, logit.predict(scaled_X_test)))"
   ]
  },
  {
   "cell_type": "markdown",
   "id": "6091b10a",
   "metadata": {},
   "source": [
    "## Model 2: Decision Tree"
   ]
  },
  {
   "cell_type": "markdown",
   "id": "9300b939",
   "metadata": {},
   "source": [
    "### 10-fold Cross validation to choose optimal max_depth. The criteria is maximization of accuracy"
   ]
  },
  {
   "cell_type": "code",
   "execution_count": 28,
   "id": "fa538f39",
   "metadata": {},
   "outputs": [
    {
     "name": "stdout",
     "output_type": "stream",
     "text": [
      "1\n",
      "2\n",
      "3\n",
      "4\n",
      "5\n",
      "6\n",
      "7\n",
      "8\n",
      "9\n",
      "10\n",
      "11\n",
      "12\n",
      "13\n",
      "14\n",
      "15\n",
      "16\n",
      "17\n",
      "18\n",
      "19\n",
      "20\n",
      "21\n",
      "22\n",
      "23\n",
      "24\n",
      "25\n",
      "26\n",
      "27\n",
      "28\n",
      "29\n",
      "30\n"
     ]
    },
    {
     "data": {
      "text/plain": [
       "{'1': 0.4972497116143525,\n",
       " '2': 0.4922409082630077,\n",
       " '3': 0.48894724060469913,\n",
       " '4': 0.4922469795397972,\n",
       " '5': 0.49555278975168476,\n",
       " '6': 0.47016574585635357,\n",
       " '7': 0.4889168842207516,\n",
       " '8': 0.48450913727156814,\n",
       " '9': 0.4867190820229494,\n",
       " '10': 0.47398457895695467,\n",
       " '11': 0.49113897152571184,\n",
       " '12': 0.474561350251958,\n",
       " '13': 0.47953979721935525,\n",
       " '14': 0.4761884524315464,\n",
       " '15': 0.48287899945358503,\n",
       " '16': 0.4812033270596806,\n",
       " '17': 0.47235140550057675,\n",
       " '18': 0.4717867767591525,\n",
       " '19': 0.4789690972011414,\n",
       " '20': 0.47841053973650655,\n",
       " '21': 0.47398457895695467,\n",
       " '22': 0.48336773723514054,\n",
       " '23': 0.4850251957986765,\n",
       " '24': 0.4800588913848582,\n",
       " '25': 0.48281828668569,\n",
       " '26': 0.48226883613623944,\n",
       " '27': 0.4745370651448,\n",
       " '28': 0.4756390018820958,\n",
       " '29': 0.4789539190091676,\n",
       " '30': 0.47508651569425053}"
      ]
     },
     "execution_count": 28,
     "metadata": {},
     "output_type": "execute_result"
    }
   ],
   "source": [
    "from sklearn.tree import DecisionTreeClassifier\n",
    "\n",
    "# To record the average 10-fold CV accuracy score for each max_depth\n",
    "cv_scores_dt = {} \n",
    "\n",
    "# fitting trees of depth 1 to 30\n",
    "depths = list(range(1,31))\n",
    "\n",
    "for d in depths:\n",
    "    print(d)\n",
    "    # default gini criterion, best split\n",
    "    dt_ = DecisionTreeClassifier(max_depth = d,\n",
    "                                 random_state=481)\n",
    "    #logit_.fit(X_train_scaled, y_train)\n",
    "    scores = cross_val_score(dt_, \n",
    "                             scaled_X_train, \n",
    "                             y_train, \n",
    "                             scoring = 'accuracy',\n",
    "                             cv = 10)\n",
    "    cv_scores_dt[str(d)] = scores.mean()\n",
    "    del dt_\n",
    "\n",
    "cv_scores_dt"
   ]
  },
  {
   "cell_type": "code",
   "execution_count": 29,
   "id": "47c33f50",
   "metadata": {},
   "outputs": [
    {
     "data": {
      "text/plain": [
       "Text(0, 0.5, '10-fold CV Accuracy')"
      ]
     },
     "execution_count": 29,
     "metadata": {},
     "output_type": "execute_result"
    },
    {
     "data": {
      "image/png": "[encoded data removed]",
      "text/plain": [
       "<Figure size 720x432 with 1 Axes>"
      ]
     },
     "metadata": {},
     "output_type": "display_data"
    }
   ],
   "source": [
    "plt.figure(figsize=(10, 6))\n",
    "plt.plot(depths, cv_scores_dt.values())\n",
    "plt.xlabel(\"Tree Maximum Depth\")\n",
    "plt.ylabel(\"10-fold CV Accuracy\")"
   ]
  },
  {
   "cell_type": "markdown",
   "id": "d306c30c",
   "metadata": {},
   "source": [
    "## Model 2: Decision Tree with max_depth=1 Results"
   ]
  },
  {
   "cell_type": "code",
   "execution_count": 29,
   "id": "8355e6bd",
   "metadata": {},
   "outputs": [],
   "source": [
    "dt = DecisionTreeClassifier(max_depth = 1, random_state=481)\n",
    "dt_fit = dt.fit(scaled_X_train, y_train)"
   ]
  },
  {
   "cell_type": "code",
   "execution_count": 31,
   "id": "8820df66",
   "metadata": {},
   "outputs": [
    {
     "data": {
      "text/plain": [
       "0.48344370860927155"
      ]
     },
     "execution_count": 31,
     "metadata": {},
     "output_type": "execute_result"
    }
   ],
   "source": [
    "dt_acc = accuracy_score(y_test, dt_fit.predict(scaled_X_test))\n",
    "dt_acc"
   ]
  },
  {
   "cell_type": "markdown",
   "id": "4df1c85f",
   "metadata": {},
   "source": [
    "## Model 3: Random Forest"
   ]
  },
  {
   "cell_type": "code",
   "execution_count": 30,
   "id": "d73fdf53",
   "metadata": {},
   "outputs": [
    {
     "name": "stdout",
     "output_type": "stream",
     "text": [
      "1\n",
      "2\n",
      "3\n",
      "4\n",
      "5\n",
      "6\n",
      "7\n",
      "8\n",
      "9\n",
      "10\n",
      "11\n",
      "12\n",
      "13\n",
      "14\n",
      "15\n",
      "16\n",
      "17\n",
      "18\n",
      "19\n",
      "20\n",
      "21\n",
      "22\n",
      "23\n",
      "24\n",
      "25\n",
      "26\n",
      "27\n",
      "28\n",
      "29\n",
      "30\n"
     ]
    },
    {
     "data": {
      "text/plain": [
       "{'1': 0.5121243397486491,\n",
       " '2': 0.49224394390140247,\n",
       " '3': 0.4839900431060652,\n",
       " '4': 0.47458259972072125,\n",
       " '5': 0.4883826118632748,\n",
       " '6': 0.48065084087183535,\n",
       " '7': 0.47569364337320136,\n",
       " '8': 0.47292210551879055,\n",
       " '9': 0.4696193309452978,\n",
       " '10': 0.47898427539311517,\n",
       " '11': 0.4767712950033392,\n",
       " '12': 0.4883552911177221,\n",
       " '13': 0.4889199198591464,\n",
       " '14': 0.4894815129621759,\n",
       " '15': 0.4850494809058345,\n",
       " '16': 0.4856141096472588,\n",
       " '17': 0.4900188209580475,\n",
       " '18': 0.4983000424989375,\n",
       " '19': 0.4977293424807237,\n",
       " '20': 0.4955406471981057,\n",
       " '21': 0.4933064173395665,\n",
       " '22': 0.4867099751077652,\n",
       " '23': 0.49168235079837286,\n",
       " '24': 0.4872654969340052,\n",
       " '25': 0.49716774937769415,\n",
       " '26': 0.49221965879424434,\n",
       " '27': 0.49112682897213283,\n",
       " '28': 0.4900097140428633,\n",
       " '29': 0.4949760184566814,\n",
       " '30': 0.4894632991318074}"
      ]
     },
     "execution_count": 30,
     "metadata": {},
     "output_type": "execute_result"
    }
   ],
   "source": [
    "from sklearn.ensemble import RandomForestClassifier \n",
    "\n",
    "# To record the average 10-fold CV accuracy score for each max_depth\n",
    "cv_scores_rf = {} \n",
    "\n",
    "# fitting trees of depth 1 to 30\n",
    "depths = list(range(1,31))\n",
    "\n",
    "for d in depths:\n",
    "    print(d)\n",
    "    # default 100 trees, gini criterion, best split\n",
    "    rf_ = RandomForestClassifier(max_depth = d,\n",
    "                                 bootstrap=False, # using the entire training dataset to preserve time indexing\n",
    "                                 random_state=481)\n",
    "    scores = cross_val_score(rf_, \n",
    "                             scaled_X_train, \n",
    "                             y_train, \n",
    "                             scoring = 'accuracy',\n",
    "                             cv = 10)\n",
    "    cv_scores_rf[str(d)] = scores.mean()\n",
    "    del rf_\n",
    "\n",
    "cv_scores_rf"
   ]
  },
  {
   "cell_type": "code",
   "execution_count": 31,
   "id": "1e393ea4",
   "metadata": {},
   "outputs": [
    {
     "data": {
      "text/plain": [
       "Text(0, 0.5, '10-fold CV Accuracy')"
      ]
     },
     "execution_count": 31,
     "metadata": {},
     "output_type": "execute_result"
    },
    {
     "data": {
      "image/png": "[encoded data removed]",
      "text/plain": [
       "<Figure size 720x432 with 1 Axes>"
      ]
     },
     "metadata": {},
     "output_type": "display_data"
    }
   ],
   "source": [
    "plt.figure(figsize=(10, 6))\n",
    "plt.plot(depths, cv_scores_rf.values())\n",
    "plt.xlabel(\"Random Forest Maximum Depth\")\n",
    "plt.ylabel(\"10-fold CV Accuracy\")"
   ]
  },
  {
   "cell_type": "markdown",
   "id": "43d0dd29",
   "metadata": {},
   "source": [
    "## Model 3: Random Forest with max_depth=1 Results"
   ]
  },
  {
   "cell_type": "code",
   "execution_count": 32,
   "id": "57329763",
   "metadata": {},
   "outputs": [],
   "source": [
    "rf = RandomForestClassifier(max_depth = 1, random_state=481)\n",
    "rf_fit = rf.fit(scaled_X_train, y_train)"
   ]
  },
  {
   "cell_type": "code",
   "execution_count": 34,
   "id": "15005fbc",
   "metadata": {},
   "outputs": [
    {
     "data": {
      "text/plain": [
       "0.48344370860927155"
      ]
     },
     "execution_count": 34,
     "metadata": {},
     "output_type": "execute_result"
    }
   ],
   "source": [
    "from sklearn.metrics import accuracy_score\n",
    "rf_acc = accuracy_score(y_test, rf_fit.predict(scaled_X_test))\n",
    "rf_acc"
   ]
  }
 ],
 "metadata": {
  "kernelspec": {
   "display_name": "Python 3 (ipykernel)",
   "language": "python",
   "name": "python3"
  },
  "language_info": {
   "codemirror_mode": {
    "name": "ipython",
    "version": 3
   },
   "file_extension": ".py",
   "mimetype": "text/x-python",
   "name": "python",
   "nbconvert_exporter": "python",
   "pygments_lexer": "ipython3",
   "version": "3.9.12"
  }
 },
 "nbformat": 4,
 "nbformat_minor": 5
}
